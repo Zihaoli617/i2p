{
 "cells": [
  {
   "cell_type": "code",
   "execution_count": 4,
   "metadata": {},
   "outputs": [
    {
     "name": "stdout",
     "output_type": "stream",
     "text": [
      "The position of Manchester in the list is: 2\n"
     ]
    }
   ],
   "source": [
    "cities = [\"Bristol\", \"London\", \"Manchester\", \"Edinburgh\", \"Belfast\", \"York\"]\n",
    "\n",
    "print(\"The position of Manchester in the list is: \" + str(cities.index(\"Manchester\")))"
   ]
  },
  {
   "cell_type": "code",
   "execution_count": 5,
   "metadata": {},
   "outputs": [
    {
     "name": "stdout",
     "output_type": "stream",
     "text": [
      "Belfast\n"
     ]
    }
   ],
   "source": [
    "print(cities[2+2])"
   ]
  },
  {
   "cell_type": "code",
   "execution_count": 6,
   "metadata": {},
   "outputs": [
    {
     "name": "stdout",
     "output_type": "stream",
     "text": [
      "Belfast\n"
     ]
    }
   ],
   "source": [
    "print(cities[-2\n",
    "            ])"
   ]
  },
  {
   "cell_type": "code",
   "execution_count": 7,
   "metadata": {},
   "outputs": [],
   "source": [
    "temperatures = [15.6, 16.5, 13.4, 14.0, 15.2, 14.8]\n"
   ]
  },
  {
   "cell_type": "code",
   "execution_count": 31,
   "metadata": {},
   "outputs": [
    {
     "ename": "TypeError",
     "evalue": "list indices must be integers or slices, not str",
     "output_type": "error",
     "traceback": [
      "\u001b[0;31m---------------------------------------------------------------------------\u001b[0m",
      "\u001b[0;31mTypeError\u001b[0m                                 Traceback (most recent call last)",
      "\u001b[0;32m<ipython-input-31-b737c5c3e446>\u001b[0m in \u001b[0;36m<module>\u001b[0;34m\u001b[0m\n\u001b[1;32m      1\u001b[0m \u001b[0mcity\u001b[0m\u001b[0;34m=\u001b[0m\u001b[0;34m\"Manchester\"\u001b[0m \u001b[0;31m# Use this to get the solution...\u001b[0m\u001b[0;34m\u001b[0m\u001b[0;34m\u001b[0m\u001b[0m\n\u001b[1;32m      2\u001b[0m \u001b[0;34m\u001b[0m\u001b[0m\n\u001b[0;32m----> 3\u001b[0;31m \u001b[0mprint\u001b[0m\u001b[0;34m(\u001b[0m\u001b[0;34m\"The average temperature in \"\u001b[0m \u001b[0;34m+\u001b[0m \u001b[0mcities\u001b[0m\u001b[0;34m[\u001b[0m\u001b[0mcity\u001b[0m\u001b[0;34m]\u001b[0m \u001b[0;34m+\u001b[0m \u001b[0;34m\" is \"\u001b[0m \u001b[0;34m+\u001b[0m \u001b[0mstr\u001b[0m\u001b[0;34m(\u001b[0m\u001b[0mtemperatures\u001b[0m\u001b[0;34m[\u001b[0m\u001b[0mint\u001b[0m\u001b[0;34m(\u001b[0m\u001b[0mcities\u001b[0m\u001b[0;34m.\u001b[0m\u001b[0mindex\u001b[0m\u001b[0;34m(\u001b[0m\u001b[0mcity\u001b[0m\u001b[0;34m)\u001b[0m\u001b[0;34m)\u001b[0m\u001b[0;34m]\u001b[0m\u001b[0;34m)\u001b[0m \u001b[0;34m+\u001b[0m \u001b[0;34m\"degrees.\"\u001b[0m\u001b[0;34m)\u001b[0m\u001b[0;34m\u001b[0m\u001b[0;34m\u001b[0m\u001b[0m\n\u001b[0m",
      "\u001b[0;31mTypeError\u001b[0m: list indices must be integers or slices, not str"
     ]
    }
   ],
   "source": [
    "city=\"Manchester\" # Use this to get the solution...\n",
    "\n",
    "print(\"The average temperature in \" + cities[city] + \" is \" + str(temperatures[int(cities.index(city))]) + \"degrees.\")"
   ]
  },
  {
   "cell_type": "code",
   "execution_count": 32,
   "metadata": {},
   "outputs": [
    {
     "name": "stdout",
     "output_type": "stream",
     "text": [
      "2\n"
     ]
    }
   ],
   "source": [
    "print(str(cities.index(city)))"
   ]
  },
  {
   "cell_type": "code",
   "execution_count": 30,
   "metadata": {},
   "outputs": [
    {
     "name": "stdout",
     "output_type": "stream",
     "text": [
      "13.4\n"
     ]
    }
   ],
   "source": [
    "print(str(temperatures[int(cities.index(city))]))"
   ]
  },
  {
   "cell_type": "code",
   "execution_count": 38,
   "metadata": {},
   "outputs": [
    {
     "name": "stdout",
     "output_type": "stream",
     "text": [
      "The average temperature in Belfast is 15.2 degrees.\n"
     ]
    }
   ],
   "source": [
    "print(\"The average temperature in \" + city + \" is \" + str(temperatures[int(cities.index(city))]) + \" degrees.\")"
   ]
  },
  {
   "cell_type": "code",
   "execution_count": 39,
   "metadata": {},
   "outputs": [
    {
     "name": "stdout",
     "output_type": "stream",
     "text": [
      "The average temperature in Belfast is 15.2degrees.\n"
     ]
    }
   ],
   "source": [
    "city=\"Belfast\"\n",
    " \n",
    "print(\"The average temperature in \" + city + \" is \" + str(temperatures[int(cities.index(city))]) + \"degrees.\")"
   ]
  },
  {
   "cell_type": "code",
   "execution_count": 48,
   "metadata": {},
   "outputs": [
    {
     "name": "stdout",
     "output_type": "stream",
     "text": [
      "The average temperature in Edinburgh is 14.0\n"
     ]
    }
   ],
   "source": [
    "def avg_tmp(city:str, temperature:int):\n",
    "    print(f\"The average temperature in {city} is {str(temperatures[int(cities.index(city))])}\")\n",
    "\n",
    "    \n",
    "city=\"Edinburgh\"\n",
    "avg_tmp(city,1)\n",
    "\n"
   ]
  },
  {
   "cell_type": "code",
   "execution_count": 42,
   "metadata": {},
   "outputs": [],
   "source": [
    "def avg_tmp(city:str, temperature:int):\n",
    "    print(f\"The average temperature in {city} is {str(temperatures[int(cities.index(city))])}\")\n",
    "\n",
    "    \n",
    "city=\"Edinburgh\""
   ]
  },
  {
   "cell_type": "code",
   "execution_count": 57,
   "metadata": {},
   "outputs": [
    {
     "name": "stdout",
     "output_type": "stream",
     "text": [
      "The average temperature in Bristol is 15.6\n",
      "The average temperature in London is 16.5\n",
      "The average temperature in Manchester is 13.4\n",
      "The average temperature in Edinburgh is 14.0\n",
      "The average temperature in Belfast is 15.2\n",
      "The average temperature in York is 14.8\n"
     ]
    }
   ],
   "source": [
    "for c in cities:\n",
    "    \n",
    "    avg_tmp(c,c)\n",
    "        \n",
    "    "
   ]
  },
  {
   "cell_type": "code",
   "execution_count": 58,
   "metadata": {},
   "outputs": [],
   "source": [
    "cities = {\n",
    "    'San Francisco': [37.77, -122.43, 'SFO'],\n",
    "    'London': [51.51, -0.08, 'LDN'],\n",
    "    'Paris': [48.86,2.29, 'PAR'],\n",
    "    'Beijing': [39.92,116.40 ,'BEI'],\n",
    "}"
   ]
  },
  {
   "cell_type": "code",
   "execution_count": 59,
   "metadata": {},
   "outputs": [],
   "source": [
    "cities={'Chennai': [13.04, 80.16, 'MAA']}"
   ]
  },
  {
   "cell_type": "code",
   "execution_count": 60,
   "metadata": {},
   "outputs": [
    {
     "name": "stdout",
     "output_type": "stream",
     "text": [
      "{'Chennai': [13.04, 80.16, 'MAA']}\n"
     ]
    }
   ],
   "source": [
    "print(cities)"
   ]
  },
  {
   "cell_type": "code",
   "execution_count": 61,
   "metadata": {},
   "outputs": [],
   "source": [
    "cities = {\n",
    "    'San Francisco': [37.77, -122.43, 'SFO'],\n",
    "    'London': [51.51, -0.08, 'LDN'],\n",
    "    'Paris': [48.86,2.29, 'PAR'],\n",
    "    'Beijing': [39.92,116.40 ,'BEI'],\n",
    "}\n"
   ]
  },
  {
   "cell_type": "code",
   "execution_count": 62,
   "metadata": {},
   "outputs": [],
   "source": [
    "cities['Chennai'] = [13.04, 80.16, 'MAA']"
   ]
  },
  {
   "cell_type": "code",
   "execution_count": 63,
   "metadata": {},
   "outputs": [
    {
     "name": "stdout",
     "output_type": "stream",
     "text": [
      "{'San Francisco': [37.77, -122.43, 'SFO'], 'London': [51.51, -0.08, 'LDN'], 'Paris': [48.86, 2.29, 'PAR'], 'Beijing': [39.92, 116.4, 'BEI'], 'Chennai': [13.04, 80.16, 'MAA']}\n"
     ]
    }
   ],
   "source": [
    "print(cities)"
   ]
  },
  {
   "cell_type": "code",
   "execution_count": 64,
   "metadata": {},
   "outputs": [
    {
     "ename": "KeyError",
     "evalue": "('Chennai', 2)",
     "output_type": "error",
     "traceback": [
      "\u001b[0;31m---------------------------------------------------------------------------\u001b[0m",
      "\u001b[0;31mKeyError\u001b[0m                                  Traceback (most recent call last)",
      "\u001b[0;32m<ipython-input-64-db95b7d26164>\u001b[0m in \u001b[0;36m<module>\u001b[0;34m\u001b[0m\n\u001b[0;32m----> 1\u001b[0;31m \u001b[0mprint\u001b[0m\u001b[0;34m(\u001b[0m\u001b[0mcities\u001b[0m\u001b[0;34m[\u001b[0m\u001b[0;34m'Chennai'\u001b[0m\u001b[0;34m,\u001b[0m\u001b[0;36m2\u001b[0m\u001b[0;34m]\u001b[0m\u001b[0;34m)\u001b[0m\u001b[0;34m\u001b[0m\u001b[0;34m\u001b[0m\u001b[0m\n\u001b[0m",
      "\u001b[0;31mKeyError\u001b[0m: ('Chennai', 2)"
     ]
    }
   ],
   "source": [
    "print(cities['Chennai',2])"
   ]
  },
  {
   "cell_type": "code",
   "execution_count": 65,
   "metadata": {},
   "outputs": [
    {
     "name": "stdout",
     "output_type": "stream",
     "text": [
      "[13.04, 80.16, 'MAA']\n"
     ]
    }
   ],
   "source": [
    "print(cities.get('Chennai', 2))"
   ]
  },
  {
   "cell_type": "code",
   "execution_count": 66,
   "metadata": {},
   "outputs": [
    {
     "name": "stdout",
     "output_type": "stream",
     "text": [
      "MAA\n"
     ]
    }
   ],
   "source": [
    "print(cities['Chennai'][2])"
   ]
  },
  {
   "cell_type": "code",
   "execution_count": 67,
   "metadata": {},
   "outputs": [
    {
     "ename": "KeyError",
     "evalue": "'Berlin'",
     "output_type": "error",
     "traceback": [
      "\u001b[0;31m---------------------------------------------------------------------------\u001b[0m",
      "\u001b[0;31mKeyError\u001b[0m                                  Traceback (most recent call last)",
      "\u001b[0;32m<ipython-input-67-fb6f9eb65ef1>\u001b[0m in \u001b[0;36m<module>\u001b[0;34m\u001b[0m\n\u001b[0;32m----> 1\u001b[0;31m \u001b[0mprint\u001b[0m\u001b[0;34m(\u001b[0m\u001b[0mcities\u001b[0m\u001b[0;34m[\u001b[0m\u001b[0;34m'Berlin'\u001b[0m\u001b[0;34m]\u001b[0m\u001b[0;34m)\u001b[0m\u001b[0;34m\u001b[0m\u001b[0;34m\u001b[0m\u001b[0m\n\u001b[0m",
      "\u001b[0;31mKeyError\u001b[0m: 'Berlin'"
     ]
    }
   ],
   "source": [
    "print(cities['Berlin'])\n"
   ]
  },
  {
   "cell_type": "code",
   "execution_count": 68,
   "metadata": {},
   "outputs": [
    {
     "name": "stdout",
     "output_type": "stream",
     "text": [
      "None\n"
     ]
    }
   ],
   "source": [
    "print(cities.get('Berlin'))"
   ]
  },
  {
   "cell_type": "code",
   "execution_count": 91,
   "metadata": {},
   "outputs": [
    {
     "name": "stdout",
     "output_type": "stream",
     "text": [
      "San Francisco -> SFO\n",
      "London -> LDN\n",
      "Paris -> PAR\n",
      "Beijing -> BEI\n",
      "Chennai -> MAA\n"
     ]
    }
   ],
   "source": [
    "for k, v in cities.items():\n",
    "    \n",
    "    print(\"%s -> %s\" % (k , cities[k][2]))\n",
    "    "
   ]
  },
  {
   "cell_type": "code",
   "execution_count": 87,
   "metadata": {},
   "outputs": [
    {
     "name": "stdout",
     "output_type": "stream",
     "text": [
      "dict_keys(['San Francisco', 'London', 'Paris', 'Beijing', 'Chennai'])\n"
     ]
    }
   ],
   "source": [
    "print(cities.keys())"
   ]
  },
  {
   "cell_type": "code",
   "execution_count": 94,
   "metadata": {},
   "outputs": [
    {
     "name": "stdout",
     "output_type": "stream",
     "text": [
      "San Francisco -> SFO\n",
      "London -> LDN\n",
      "Paris -> PAR\n",
      "Beijing -> BEI\n",
      "Chennai -> MAA\n"
     ]
    }
   ],
   "source": [
    "cities = {\n",
    "    'San Francisco': {\n",
    "        'lat': 37.77, \n",
    "        'lon': -122.43,\n",
    "        'airport': 'SFO'},\n",
    "    'London': {\n",
    "        'lat': 51.51, \n",
    "        'lon': -0.08, \n",
    "        'airport': 'LDN'},\n",
    "    'Paris': {\n",
    "        'lat': 48.86,\n",
    "        'lon': 2.29, \n",
    "        'airport': 'PAR'},\n",
    "    'Beijing': {\n",
    "        'lat': 39.92,\n",
    "        'lon': 116.40,\n",
    "        'airport': 'BEI'},\n",
    "    'Chennai': { \n",
    "        'lat': 13.08, \n",
    "        'lon': 80.28, \n",
    "        'airport': 'MAA'}\n",
    "}\n",
    "\n",
    "for k, v in cities.items():\n",
    "    \n",
    "    print(\"%s -> %s\" % (k , cities[k]['airport']))"
   ]
  },
  {
   "cell_type": "code",
   "execution_count": 109,
   "metadata": {},
   "outputs": [
    {
     "name": "stdout",
     "output_type": "stream",
     "text": [
      "San Francisco is at latitude 37.77\n",
      "London is at latitude 51.51\n",
      "Paris is at latitude 48.86\n",
      "Beijing is at latitude 39.92\n",
      "Chennai is at latitude 13.08\n"
     ]
    }
   ],
   "source": [
    "for c in cities.keys():\n",
    "    \n",
    "    print(\"%s is at latitude %s\" % (c, cities[c]['lat']))"
   ]
  },
  {
   "cell_type": "code",
   "execution_count": 125,
   "metadata": {},
   "outputs": [
    {
     "name": "stdout",
     "output_type": "stream",
     "text": [
      "San Francisco is at latitude 37.77\n",
      "London is at latitude 51.51\n",
      "Paris is at latitude 48.86\n",
      "Beijing is at latitude 39.92\n",
      "Chennai is at latitude 13.08\n"
     ]
    }
   ],
   "source": [
    "cities_alt = [\n",
    "    {'name':     'San Francisco',\n",
    "     'position': [37.77, -122.43],\n",
    "     'airport':  'SFO'},\n",
    "    {'name':     'London',\n",
    "     'position': [51.51, -0.08],\n",
    "     'airport':  'LDN'},\n",
    "    {'name':     'Paris',\n",
    "     'position': [48.86, 2.29],\n",
    "     'airport':  'PAR'},\n",
    "    {'name':     'Beijing',\n",
    "     'position': [39.92, 116.40],\n",
    "     'airport':  'BEI'},\n",
    "    {'name':     'Chennai', \n",
    "     'position': [13.08, 80.28],\n",
    "      'airport': 'MAA'}\n",
    "]\n",
    "\n",
    "for c in cities_alt:\n",
    "    \n",
    "    print(\"%s is at latitude %s\" % \n",
    "          (c['name'], c['position'][0]))"
   ]
  },
  {
   "cell_type": "code",
   "execution_count": 117,
   "metadata": {},
   "outputs": [
    {
     "ename": "TypeError",
     "evalue": "list indices must be integers or slices, not str",
     "output_type": "error",
     "traceback": [
      "\u001b[0;31m---------------------------------------------------------------------------\u001b[0m",
      "\u001b[0;31mTypeError\u001b[0m                                 Traceback (most recent call last)",
      "\u001b[0;32m<ipython-input-117-85f6ed407d36>\u001b[0m in \u001b[0;36m<module>\u001b[0;34m\u001b[0m\n\u001b[0;32m----> 1\u001b[0;31m \u001b[0mprint\u001b[0m\u001b[0;34m(\u001b[0m\u001b[0mcities_alt\u001b[0m\u001b[0;34m[\u001b[0m\u001b[0;34m'name'\u001b[0m\u001b[0;34m]\u001b[0m\u001b[0;34m)\u001b[0m\u001b[0;34m\u001b[0m\u001b[0;34m\u001b[0m\u001b[0m\n\u001b[0m",
      "\u001b[0;31mTypeError\u001b[0m: list indices must be integers or slices, not str"
     ]
    }
   ],
   "source": [
    "print(cities_alt['name'])"
   ]
  },
  {
   "cell_type": "code",
   "execution_count": 126,
   "metadata": {},
   "outputs": [],
   "source": [
    "# for cities, the c means keys in dict\n",
    "# for cities_alt, the c means dict directly"
   ]
  },
  {
   "cell_type": "code",
   "execution_count": 127,
   "metadata": {},
   "outputs": [
    {
     "ename": "SyntaxError",
     "evalue": "invalid syntax (<ipython-input-127-83f40642a827>, line 3)",
     "output_type": "error",
     "traceback": [
      "\u001b[0;36m  File \u001b[0;32m\"<ipython-input-127-83f40642a827>\"\u001b[0;36m, line \u001b[0;32m3\u001b[0m\n\u001b[0;31m    with urlopen\u001b[0m\n\u001b[0m                ^\u001b[0m\n\u001b[0;31mSyntaxError\u001b[0m\u001b[0;31m:\u001b[0m invalid syntax\n"
     ]
    }
   ],
   "source": [
    "from urllib.request import urlopen\n",
    "\n",
    "with urlopen"
   ]
  },
  {
   "cell_type": "code",
   "execution_count": 128,
   "metadata": {},
   "outputs": [
    {
     "ename": "SyntaxError",
     "evalue": "unexpected EOF while parsing (<ipython-input-128-287fd00c3082>, line 3)",
     "output_type": "error",
     "traceback": [
      "\u001b[0;36m  File \u001b[0;32m\"<ipython-input-128-287fd00c3082>\"\u001b[0;36m, line \u001b[0;32m3\u001b[0m\n\u001b[0;31m    with urlopen(\"https://raw.githubusercontent.com/jreades/i2p/master/data/2020-08-24-sample-listings-simple.csv\") as conn:\u001b[0m\n\u001b[0m                                                                                                                            ^\u001b[0m\n\u001b[0;31mSyntaxError\u001b[0m\u001b[0;31m:\u001b[0m unexpected EOF while parsing\n"
     ]
    }
   ],
   "source": [
    "from urllib.request import urlopen\n",
    "\n",
    "with urlopen(\"https://raw.githubusercontent.com/jreades/i2p/master/data/2020-08-24-sample-listings-simple.csv\") as conn:"
   ]
  },
  {
   "cell_type": "code",
   "execution_count": 129,
   "metadata": {},
   "outputs": [
    {
     "name": "stdout",
     "output_type": "stream",
     "text": [
      "datafile variable is of type: 'str'.\n",
      "\n"
     ]
    }
   ],
   "source": [
    "from urllib.request import urlopen\n",
    "\n",
    "# Given the info you were given above, what do you \n",
    "# think the value of 'url' should be? What\n",
    "# type of variable is it? int or string? \n",
    "url = 'https://github.com/jreades/i2p/raw/master/data/2020-08-24-sample-listings-simple.csv'\n",
    "\n",
    "# Read the URL stream into variable called 'response'\n",
    "# using the function that we imported above\n",
    "response = urlopen(url)\n",
    "\n",
    "# Now read from the stream, decoding so that we get actual text\n",
    "datafile = response.read().decode('utf-8')\n",
    "\n",
    "# You might want to explore what `__class__` and `__name__`\n",
    "# offer, but basically the give us a way of finding out what\n",
    "# is 'behind' more complex variables\n",
    "print(\"datafile variable is of type: '\" + datafile.__class__.__name__ + \"'.\\n\")"
   ]
  },
  {
   "cell_type": "code",
   "execution_count": 130,
   "metadata": {},
   "outputs": [
    {
     "name": "stdout",
     "output_type": "stream",
     "text": [
      "16480\n",
      "id,name,host_id,host_name,host_since,latitude,longitude,property_type,room_type,accommodates,bathrooms,bedrooms,beds,price,minimum_nights,maximum_nights,availability_365,number_of_reviews,calculated_host_listings_count\n",
      "25339003,\"An Amazing 4Bedroom Home, Central London, Sleeps12\",191329110,Emily,2018-05-24,51.52865,-0.19998,Entire house,Entire home/apt,12,,4.0,9.0,$226.00,2,1125,23,64,1\n",
      "40259218,Large Double Room - Maida Vale,302720259,Mantas,2019-10-16,51.52594000000001,-0.18909,Private room in apartment,Private room,2,,1.0,1.0,$41.00,1,24,365,4,5\n",
      "20097666,Zone 1 : Spacious single bedroom in \n"
     ]
    }
   ],
   "source": [
    "print(len(datafile))\n",
    "print(datafile[:600])"
   ]
  },
  {
   "cell_type": "code",
   "execution_count": 131,
   "metadata": {},
   "outputs": [
    {
     "name": "stdout",
     "output_type": "stream",
     "text": [
      "datafile variable is of type: 'list'.\n",
      "\n"
     ]
    }
   ],
   "source": [
    "url = \"https://github.com/jreades/i2p/raw/master/data/2020-08-24-sample-listings-simple.csv\"\n",
    "\n",
    "response = urlopen(url)\n",
    "datafile = response.read().decode('utf-8').splitlines()\n",
    "\n",
    "print(\"datafile variable is of type: '\" + datafile.__class__.__name__ + \"'.\\n\")"
   ]
  },
  {
   "cell_type": "code",
   "execution_count": 159,
   "metadata": {},
   "outputs": [
    {
     "name": "stdout",
     "output_type": "stream",
     "text": [
      "101\n",
      "[]\n",
      "['id,name,host_id,host_name,host_since,latitude,longitude,property_type,room_type,accommodates,bathrooms,bedrooms,beds,price,minimum_nights,maximum_nights,availability_365,number_of_reviews,calculated_host_listings_count']\n"
     ]
    }
   ],
   "source": [
    "# Print the number of rows in `datafile`\n",
    "row_count = sum (1 for row in datafile)\n",
    "print(row_count)\n",
    "\n",
    "# Print the first two rows of `datafile`\n",
    "import csv\n",
    "for i in range(2):\n",
    "    print(datafile[:i])\n"
   ]
  },
  {
   "cell_type": "code",
   "execution_count": 145,
   "metadata": {},
   "outputs": [
    {
     "name": "stdout",
     "output_type": "stream",
     "text": [
      "['id,name,host_id,host_name,host_since,latitude,longitude,property_type,room_type,accommodates,bathrooms,bedrooms,beds,price,minimum_nights,maximum_nights,availability_365,number_of_reviews,calculated_host_listings_count', '25339003,\"An Amazing 4Bedroom Home, Central London, Sleeps12\",191329110,Emily,2018-05-24,51.52865,-0.19998,Entire house,Entire home/apt,12,,4.0,9.0,$226.00,2,1125,23,64,1', '40259218,Large Double Room - Maida Vale,302720259,Mantas,2019-10-16,51.52594000000001,-0.18909,Private room in apartment,Private room,2,,1.0,1.0,$41.00,1,24,365,4,5', '20097666,Zone 1 : Spacious single bedroom in Bayswater,39710946,Thanyawan,2015-07-27,51.51743,-0.18702,Private room in apartment,Private room,1,,1.0,1.0,$35.00,4,1125,0,0,1', '40868766,Large Smart Room 20 minutes walk to Big Ben,300905210,Nadia,2019-10-08,51.48951,-0.11812,Private room in apartment,Private room,2,,1.0,2.0,$55.00,2,1125,230,4,3', '29649371,Large Notting Hill 2BR near Portobello Rd,2165973,Emily & Kirsty,2012-04-18,51.52007,-0.20328,Entire apartment,Entire home/apt,4,,2.0,2.0,$100.00,3,1125,0,15,1', '6650370,Quiet flat with private garden in Barons Court,3440336,Emily,2012-09-01,51.48863,-0.21495,Entire apartment,Entire home/apt,2,,1.0,1.0,$68.00,2,30,0,45,1', \"42405264,Superhost's Lux 3B Luxury Flat- 397 5-Star Reviews,28381203,Emrah,2015-02-26,51.56214,-0.23681,Entire apartment,Entire home/apt,8,,3.0,6.0,$150.00,2,1125,365,0,27\", '13501585,Lovely and bright garden flat,42097052,Tommaso,2015-08-21,51.55646,-0.10387,Entire apartment,Entire home/apt,6,,3.0,3.0,$110.00,14,1125,0,0,1', '36162322,Covent Garden Private Room with Shared Living Room,8033408,Che,2013-08-08,51.51228,-0.12788,Room in serviced apartment,Hotel room,2,,1.0,1.0,$130.00,2,1125,0,1,1', '20631005,Double Room with private bathroom,42411592,Pascale,2015-08-24,51.47273,-0.04183,Private room in house,Private room,2,,1.0,1.0,$45.00,2,1125,340,2,2', '32175015,Warm 1BR garden flat in leafy Hampstead (Veeve),137094377,Veeve,2017-06-26,51.547,-0.17704,Entire apartment,Entire home/apt,4,,1.0,1.0,$166.00,4,1125,246,0,267', '38406649,Single  in NW2,192355301,Nilgun,2018-05-29,51.56214,-0.22505,Private room in house,Private room,1,,1.0,1.0,$29.00,3,1125,363,1,3', '21315952,single bedroom near heathrow london free parking,154284698,Mark,2017-10-12,51.43955,-0.40618,Private room,Private room,1,,1.0,1.0,$20.00,3,7,89,69,1', '16361918,Luxury New Apartment with Spa and Pool,4221972,Emile,2012-11-23,51.53099,-0.09709,Entire apartment,Entire home/apt,4,,2.0,2.0,$150.00,50,1125,3,2,4', '39556787,Stylish Family Maisonette in Vibrant South London,39738485,Holly,2015-07-27,51.42263,-0.16713,Entire apartment,Entire home/apt,4,,2.0,3.0,$102.00,2,365,0,1,1', '26542484,Single/double room facing garden,5160322,Dan,2013-02-20,51.46852,-0.09454,Private room in apartment,Private room,2,,1.0,1.0,$29.00,3,30,365,9,1', '21744434,Spaceous 2 bed house in Battersea / Clapham,121905649,James,2017-03-21,51.46597,-0.16261,Entire house,Entire home/apt,4,,2.0,2.0,$300.00,1,1125,180,3,1', '4059945,\"Fitzrovia, Oxford circus, Soho\",21057314,Vilma,2014-09-07,51.51528,-0.14195,Entire apartment,Entire home/apt,4,,2.0,2.0,$203.00,5,60,88,33,1', '5345295,Balham - Beautiful Room,27697836,Georgie,2015-02-13,51.43855,-0.14878,Private room in house,Private room,2,,1.0,1.0,$56.00,1,1125,365,16,1', '44257873,\"133R6 Ensuite modern, quiet room, 20min to center\",190233321,Santa,2018-05-18,51.5166,-0.25064000000000003,Private room in house,Private room,1,,1.0,0.0,$30.00,12,99,64,0,10', '15768207,Large double bedroom PLUS full use of lovely house,26527466,Michael,2015-01-22,51.43917,0.06681000000000001,Private room in house,Private room,2,,1.0,1.0,$50.00,2,21,87,10,2', '1683278,Chelsea - Luxury flat with terrace,2036946,Francesco,2012-03-30,51.49193,-0.16441,Entire apartment,Entire home/apt,2,,1.0,1.0,$230.00,4,1125,0,3,15', '24386203,London room with good links into town,184057890,Emma,2018-04-13,51.66791,-0.0271,Private room in house,Private room,1,,1.0,1.0,$23.00,1,7,83,0,1', '39349912,\"Fun, Stylish 5-Bed Family House in Kensal Green\",27572615,Emily,2015-02-11,51.53391,-0.23132,Entire house,Entire home/apt,9,,5.0,4.0,$413.00,3,1125,0,0,169', '29726372,\"Lovely 2 BEDROOM flat, heart of Fulham(sleeps 4-5)\",26816558,Gemma,2015-01-27,51.47765,-0.1942,Entire apartment,Entire home/apt,5,,2.0,5.0,$149.00,1,1125,52,26,2', '34713135,DBL ROOM NEAR WHITECHAPEL ( E3 5DF),45985758,Md,2015-10-07,51.52908,-0.03751,Private room in house,Private room,1,,1.0,1.0,$32.00,15,1125,365,0,1', '424511,House to rent in Olimpics,2110389,Giray,2012-04-10,51.51367,0.04656,Entire house,Entire home/apt,4,,2.0,1.0,$181.00,7,1125,0,0,1', '2465026,\"Luxury 2-Bed Flat with Balcony, 15min to West End\",5404325,Gabriele,2013-03-10,51.47604000000001,-0.11684,Entire apartment,Entire home/apt,5,,2.0,3.0,$199.00,4,1125,0,26,2', '4743124,\"Spacious, sunny room in Dalston home\",12747127,Shu Han,2014-03-03,51.55571,-0.07282999999999999,Private room in house,Private room,2,,1.0,1.0,$26.00,1,1125,0,1,1', '25134847,New Modern Family Home In Uxbridge .,189965061,Amrik,2018-05-16,51.51895,-0.47724,Entire house,Entire home/apt,8,,4.0,4.0,$150.00,3,365,0,7,1', '39437321,Bed in 8-Bed Mixed Dorm with Ensuite Bathroom,302707533,Safestay,2019-10-16,51.49142,-0.09879,Shared room in hostel,Shared room,8,,1.0,8.0,$15.00,1,365,237,0,9', '35825237,Piccadilly Line-Turnpike Lane Station,29918926,Jack,2015-03-24,51.59264,-0.09536,Private room in house,Private room,1,,1.0,1.0,$25.00,2,45,357,13,1', '1474317,Shoreditch Luxury Room + en-suite,8896463,Rich,2013-09-17,51.5251,-0.08163,Private room in apartment,Private room,3,,1.0,1.0,$89.00,1,365,0,25,1', '28652501,Sweet Home,216190599,Nick,2018-09-19,51.43713,-0.12679,Private room in apartment,Private room,3,,1.0,2.0,$30.00,1,1125,90,32,1', '6868537,Designer flat in Primrose Hill,338851,Giorgia,2011-01-07,51.54192000000001,-0.16419,Entire apartment,Entire home/apt,5,,2.0,4.0,$260.00,5,1125,329,11,2', '726669,Brand new studio in Victoria 11A,580475,Alessandro,2011-05-11,51.49142,-0.13955,Entire apartment,Entire home/apt,2,,1.0,1.0,$76.00,1,1125,0,330,41', '20821143,Spacious 1 bed apartment near Tower Bridge,148641390,Andrew,2017-09-01,51.49344,-0.07324,Entire apartment,Entire home/apt,2,,1.0,1.0,$96.00,3,1125,11,76,1', '10408740,Trendy 2 bedroom flat in Shoreditch,7807701,Joseph,2013-07-29,51.54198,-0.07958,Entire apartment,Entire home/apt,4,,2.0,2.0,$148.00,2,1125,0,6,1', '14309812,Eye of London by Merino,5352830,Caio & Louise,2013-03-06,51.51588,-0.11234,Entire apartment,Entire home/apt,4,,2.0,2.0,$337.00,2,1125,356,32,7', '27866278,Hoxton / Haggerston Apartment,28822248,Caite,2015-03-05,51.53629,-0.0751,Entire apartment,Entire home/apt,2,,1.0,1.0,$95.00,2,1125,34,14,1', '40885187,\"Stylish 2-Bed Garden Apartment, 1 min from Tube!\",27572615,Emily,2015-02-11,51.49086,-0.19211,Entire apartment,Entire home/apt,4,,2.0,2.0,$297.00,3,1125,0,1,169', '28394803,\"The Garden Studios, London SW13 - Sleeps 6.\",148114998,Lurdes,2017-08-28,51.47749,-0.24351,Private room in guesthouse,Private room,6,,3.0,4.0,$170.00,3,90,338,8,2', '8680525,Spacious flat nearby river & park,43582898,Julianne,2015-09-07,51.48067,-0.09683,Private room in apartment,Private room,2,,1.0,1.0,$55.00,2,1125,0,1,1', '13433229,Separate annex in lovely area close to Wimbledon,28695363,Vincent,2015-03-03,51.39508,-0.21914,Entire guest suite,Entire home/apt,2,,,1.0,$59.00,2,7,172,115,1', '37215315,Avni Kensington Hotel,280178840,Thelma,2019-07-28,51.49521,-0.14072,Entire house,Entire home/apt,2,,1.0,1.0,$430.00,1,1125,365,0,1', '39432597,\"3 Bed, 20 min to Liverpool st, EAST LONDON\",302880841,Dean,2019-10-17,51.55014,0.01832,Entire house,Entire home/apt,7,,3.0,5.0,$110.00,3,1125,0,2,1', '42843489,Deluxe Double Room in OYO The Greenland Hotel,337666693,OYO The Greenland Hotel,2020-02-20,51.4787,0.02016,Room in boutique hotel,Private room,2,,1.0,1.0,$504.00,1,1125,336,0,3', '42337868,Trendy 3BR Family Garden Home in Dalston - up to 5 guests!,6703533,Jessica,2013-06-02,51.55408,-0.07767,Entire house,Entire home/apt,5,,3.0,3.0,$175.00,3,1125,0,1,1', '25451074,Private room in East London,104508239,Agata,2016-11-20,51.54781,-0.06857,Private room in apartment,Private room,1,,1.0,1.0,$26.00,1,1125,0,1,1', '39817130,\"Cosy 1 Bedroom Apt, 8 mins to Aldgate East Station\",96569915,Tee & Jay,2016-09-24,51.51466,-0.06433,Entire apartment,Entire home/apt,6,,1.0,3.0,$85.00,2,90,0,19,9', '41950973,Supreme Triple Studio in the heart of Baker Street,178407503,Nox Hotels,2018-03-14,51.52378,-0.1604,Private room in serviced apartment,Private room,3,,2.0,2.0,$156.71,1,1125,2,0,5', '42513545,Spacious room in a cosy home,338565890,Dila,2020-02-24,51.58043,-0.04007,Private room in house,Private room,2,,1.0,2.0,$26.00,1,20,85,2,1', '27026005,Cozy single room in Stockwell,188332446,Mario And Elena,2018-05-07,51.47356,-0.12536,Private room in apartment,Private room,1,,1.0,0.0,$37.00,2,1125,91,64,4', '1114488,\"Flat in Islington, Central London\",6116528,Richard,2013-04-27,51.5489,-0.10863,Entire apartment,Entire home/apt,2,,1.0,1.0,$55.00,28,1125,75,4,1', '32253983,Studio Two ArtHouse London Bridge,241166714,Michael,2019-02-05,51.50297,-0.08542999999999999,Private room in townhouse,Private room,4,,2.0,2.0,$102.00,3,1125,327,31,2', '39911815,Luxurious 4-Bed House in Fulham with Terrace,27572615,Emily,2015-02-11,51.4776,-0.19178,Entire house,Entire home/apt,10,,4.0,4.0,$798.00,5,1125,122,0,169', '39225196,\"Room 1, Kenmare, New Road Rainham, RM13 9PN\",300916979,Jude,2019-10-08,51.51981,0.2053,Private room in house,Private room,2,,1.0,1.0,$60.00,1,15,89,0,2', '18789292,Light and spacious 2bed 1 bath flat!,39496502,Frances,2015-07-25,51.47302,-0.12635,Entire apartment,Entire home/apt,4,,2.0,2.0,$120.00,2,1125,0,7,1', '13289226,I love Peckham,7851320,Tanya,2013-07-31,51.472,-0.07514,Entire apartment,Entire home/apt,2,,1.0,1.0,$120.00,7,1125,33,2,1', '29502574,Spacious room in beautiful flat. East London!,28936999,Anisa,2015-03-07,51.53121,-0.05731,Private room in apartment,Private room,1,,1.0,1.0,$50.00,2,90,329,38,1', '20893587,Peaceful with stylish private bathroom VH,68561737,Veronica,2016-04-23,51.4367,-0.16719,Private room in house,Private room,2,,1.0,1.0,$40.00,3,14,168,95,1', '23523880,3 Bedroom family home in West Dulwich,17931388,Allan,2014-07-10,51.43119,-0.08983,Entire house,Entire home/apt,9,,3.0,4.0,$98.00,3,30,178,0,1', '10880757,Chelsea/Fulham stylish 3Bed Terrace,56374442,Christian,2016-01-27,51.47139,-0.18524,Entire apartment,Entire home/apt,6,,3.0,3.0,$185.00,3,1125,0,22,2', '44069559,Short let spacious double room in East London,97529920,Chiara,2016-10-01,51.55423,-0.07896,Private room in condominium,Private room,1,,1.0,0.0,$25.00,30,45,5,0,1', '34556153,Lovely double bedroom in modern house,27397891,Erika,2015-02-08,51.48087,-0.33142,Private room in house,Private room,2,,1.0,1.0,$45.00,2,30,179,16,2', '15307633,Farmhouse close to London in beautiful grounds,97494946,Katie,2016-10-01,51.44118,0.15287,Entire house,Entire home/apt,7,,4.0,6.0,$250.00,2,1125,169,16,1', '12263797,Pretty one bedroom cottage in leafy london suburb,66047258,Anne,2016-04-06,51.41899,-0.04507,Entire guest suite,Entire home/apt,2,,1.0,1.0,$58.00,7,1125,305,33,1', '32347496,Beautiful Large Clean Quiet En-suit Double Room!,131528337,Njabulo,2017-05-22,51.58425,-0.17264000000000002,Private room in apartment,Private room,2,,1.0,1.0,$45.00,1,30,365,27,3', '668819,Single Room to let in Clean House,3381734,Jane,2012-08-26,51.55851,-0.00967,Private room in townhouse,Private room,1,,1.0,1.0,$19.00,1,180,318,126,2', '29896303,Clean Cosy Loft (private parking & tube),107260536,Marlon,2016-12-14,51.41674,-0.17246,Private room in house,Private room,3,,1.0,1.0,$49.00,1,9,55,61,2', '13663264,3bedroom Family Home minutes from Kensington Tube,37056489,Will,2015-06-29,51.49228,-0.20883,Entire apartment,Entire home/apt,6,,3.0,4.0,$221.00,3,1125,338,153,14', '40657332,Professionally cleaned 1 bed west London apt seconds from Fulham Broadway,258580205,Sverrir & Vesta,2019-04-28,51.48087,-0.1967,Entire apartment,Entire home/apt,3,,1.0,1.0,$104.00,2,1125,0,1,50', '29230752,\"Double room in modern chic apartment, Dalston E8\",1951049,Claudia,2012-03-18,51.54222,-0.0703,Private room in apartment,Private room,2,,1.0,1.0,$65.00,1,1125,364,5,2', '32842985,Modern & Bright Entire Flat 2 Rooms Old Street,49413779,Olivia,2015-11-19,51.53159,-0.08668,Entire apartment,Entire home/apt,4,,2.0,2.0,$95.00,5,1125,0,13,1', '1043759,Room in Central London Paddington,5747106,Salwa,2013-04-03,51.52146,-0.18633,Private room in apartment,Private room,2,,1.0,2.0,$70.00,90,1125,365,185,3', '22987867,NEW HOME OR HOLIDAY IN LONDON - long or short term,168407586,Genna,2018-01-17,51.47473,-0.06875,Private room in house,Private room,2,,1.0,1.0,$30.00,1,365,270,1,1', '11707553,Room and bathroom close to central,20351987,Lu,2014-08-21,51.42829,-0.15175,Private room in apartment,Private room,2,,1.0,1.0,$38.00,2,7,0,3,1', '20238937,Lovely Room in Best Location,94603761,Moritz,2016-09-11,51.52749,-0.11687,Private room in apartment,Private room,1,,1.0,1.0,$35.00,6,1125,0,0,2', '42106572,Luxury Apartment Canary Wharf,297690387,Flexystays,2019-09-24,51.51376,-0.02139,Entire apartment,Entire home/apt,4,,2.0,2.0,$165.00,2,1125,170,5,51', '31814561,Studio 9-Camden Style- Twin beds or Superking!,30629100,Gary,2015-04-05,51.38298,-0.08001,Entire apartment,Entire home/apt,2,,,3.0,$46.71,4,365,298,58,12', '12195983,Large Knightsbridge 2Bed 2Bath Free WiFi,31066062,Robert,2015-04-12,51.49425,-0.16382,Entire apartment,Entire home/apt,5,,2.0,2.0,$515.00,3,1124,0,13,42', '41276640,Great Location of my flat 15mn from central london,324177252,Rhita,2020-01-04,51.55201,-0.11021,Private room in apartment,Private room,2,,2.0,3.0,$55.00,3,10,83,0,1', '19036976,Luxury Room in a Great Location.,132853716,Joey,2017-05-31,51.552,-0.18813,Private room in apartment,Private room,2,,1.0,2.0,$47.00,3,93,364,50,2', '19246652,Southfields Home,4037050,Ben,2012-11-01,51.4514,-0.2021,Entire apartment,Entire home/apt,5,,2.0,3.0,$85.00,6,20,0,3,1', '41665916,4 Bedroom family house in Ilford East London,92973657,Biodun,2016-09-01,51.5492,0.08101,Entire house,Entire home/apt,7,,4.0,4.0,$150.00,3,14,0,5,1', '29752790,Comfy 1Bedroom Apartment in the heart of London,201263915,Claire,2018-07-10,51.51461,-0.12717,Entire apartment,Entire home/apt,2,,1.0,1.0,$65.00,2,28,0,8,1', '38222036,Luxury 2 bed 2 minutes from station,204530689,Tan,2018-07-23,51.51704,-0.07182999999999999,Entire apartment,Entire home/apt,4,,2.0,2.0,$170.00,7,1125,0,1,1', '37427933,Private room in Dalston sleeps 3,82448401,Maureen,2016-07-08,51.55341,-0.06899,Private room in house,Private room,3,,1.0,2.0,$16.00,1,28,252,25,3', '20916454,\"Delightful Private Bedroom, 2 mins to Tube\",150322962,Diyala,2017-09-12,51.49003,-0.19176,Private room in apartment,Private room,2,,1.0,1.0,$45.00,1,14,363,23,1', '29273072,Ensuite room (privat)  30 min to Central London,220537638,Marita,2018-10-14,51.48769,0.11406,Private room in house,Private room,2,,1.0,1.0,$25.00,1,180,0,27,1', '8948392,\"Flat in a new building, canal views\",2153966,Michael,2012-04-16,51.53855,-0.07819,Entire apartment,Entire home/apt,4,,1.0,2.0,$99.00,4,30,268,3,1', '38322409,\"Close 2 Royal Arsenal, Thames Clipper City Airport\",81937925,Neil,2016-07-05,51.49341,0.0818,Private room in house,Private room,1,,1.0,1.0,$25.00,1,1125,0,2,2', '24146292,Large Double in a 2-bed garden flat in Ally Pally,5047300,Kat,2013-02-11,51.59852,-0.12318,Private room in apartment,Private room,2,,1.0,1.0,$50.00,1,1125,80,1,1', '21996251,Cosy room in very good location,58077301,Sylwia,2016-02-09,51.55031,0.00373,Private room in house,Private room,1,,1.0,1.0,$17.00,4,12,0,0,1', '22681593,Charming house with garden in the heart of Peckham,11875492,Anna Rose,2014-02-02,51.46763,-0.07021000000000001,Entire townhouse,Entire home/apt,2,,1.0,1.0,$95.00,5,30,0,28,1', '33923856,\"King-size bed in stylish,  peaceful artist’s flat\",2594564,Adit,2012-06-10,51.61141,-0.12465,Private room in apartment,Private room,2,,1.0,1.0,$50.00,2,30,90,0,1', '18734228,Top floor 1 bed apartment with spectacular views,5065286,Dom,2013-02-12,51.48843,-0.21288,Entire apartment,Entire home/apt,2,,1.0,1.0,$105.00,3,1125,0,2,1', '41376268,(8DH) Dreams Unlimited - Hounslow/Heathrow,142206238,Rajesh,2017-07-24,51.47631,-0.34523000000000004,Entire apartment,Entire home/apt,6,,2.0,2.0,$142.00,1,1125,365,1,4', '34560337,Portobello Mews House for 8 guests+free parking,47237234,Marcus,2015-10-23,51.51818,-0.20678,Entire house,Entire home/apt,8,,4.0,4.0,$263.00,2,31,52,13,1', '40373464,\"Modern, Small Double Private Room\",139052118,Leon,2017-07-07,51.46497,-0.17807,Private room in apartment,Private room,1,,1.0,1.0,$38.00,1,1125,0,4,6']\n"
     ]
    }
   ],
   "source": [
    "print(datafile)"
   ]
  },
  {
   "cell_type": "code",
   "execution_count": 167,
   "metadata": {},
   "outputs": [
    {
     "name": "stdout",
     "output_type": "stream",
     "text": [
      "['id,name,host_id,host_name,host_since,latitude,longitude,property_type,room_type,accommodates,bathrooms,bedrooms,beds,price,minimum_nights,maximum_nights,availability_365,number_of_reviews,calculated_host_listings_count']\n"
     ]
    }
   ],
   "source": [
    "import csv\n",
    "    \n",
    "print(datafile[:1])\n",
    "\n"
   ]
  },
  {
   "cell_type": "code",
   "execution_count": 161,
   "metadata": {},
   "outputs": [
    {
     "name": "stdout",
     "output_type": "stream",
     "text": [
      "40373464,\"Modern, Small Double Private Room\",139052118,Leon,2017-07-07,51.46497,-0.17807,Private room in apartment,Private room,1,,1.0,1.0,$38.00,1,1125,0,4,6\n"
     ]
    }
   ],
   "source": [
    "print(datafile[-1])"
   ]
  },
  {
   "cell_type": "code",
   "execution_count": 162,
   "metadata": {},
   "outputs": [
    {
     "name": "stdout",
     "output_type": "stream",
     "text": [
      "['abc', 'efgh']\n"
     ]
    }
   ],
   "source": [
    "print('abcdefgh'.split('d'))"
   ]
  },
  {
   "cell_type": "code",
   "execution_count": 163,
   "metadata": {},
   "outputs": [
    {
     "name": "stdout",
     "output_type": "stream",
     "text": [
      "Help on built-in function split:\n",
      "\n",
      "split(sep=None, maxsplit=-1) method of builtins.str instance\n",
      "    Return a list of the words in the string, using sep as the delimiter string.\n",
      "    \n",
      "    sep\n",
      "      The delimiter according which to split the string.\n",
      "      None (the default value) means split according to any whitespace,\n",
      "      and discard empty strings from the result.\n",
      "    maxsplit\n",
      "      Maximum number of splits to do.\n",
      "      -1 (the default value) means no limit.\n",
      "\n"
     ]
    }
   ],
   "source": [
    "help('abcdefgh'.split)"
   ]
  },
  {
   "cell_type": "code",
   "execution_count": 164,
   "metadata": {},
   "outputs": [
    {
     "name": "stdout",
     "output_type": "stream",
     "text": [
      "['40373464', '\"Modern', ' Small Double Private Room\"', '139052118', 'Leon', '2017-07-07', '51.46497', '-0.17807', 'Private room in apartment', 'Private room', '1', '', '1.0', '1.0', '$38.00', '1', '1125', '0', '4', '6']\n"
     ]
    }
   ],
   "source": [
    "test = datafile[-1].split(',')\n",
    "print(test)"
   ]
  },
  {
   "cell_type": "code",
   "execution_count": 165,
   "metadata": {},
   "outputs": [
    {
     "name": "stdout",
     "output_type": "stream",
     "text": [
      "urlData has 101 rows and 19 columns.\n",
      "['40373464', 'Modern, Small Double Private Room', '139052118', 'Leon', '2017-07-07', '51.46497', '-0.17807', 'Private room in apartment', 'Private room', '1', '', '1.0', '1.0', '$38.00', '1', '1125', '0', '4', '6']\n"
     ]
    }
   ],
   "source": [
    "from urllib.request import urlopen\n",
    "import csv\n",
    "\n",
    "url = \"https://github.com/jreades/i2p/raw/master/data/2020-08-24-sample-listings-simple.csv\"\n",
    "\n",
    "urlData = [] # Somewhere to store the data\n",
    "\n",
    "response = urlopen(url) # Get the data using the urlopen function\n",
    "csvfile  = csv.reader(response.read().decode('utf-8').splitlines()) # Pass it over to the reader function\n",
    "\n",
    "for row in csvfile:              \n",
    "    urlData.append( row )\n",
    "\n",
    "print(\"urlData has \" + str(len(urlData)) + \" rows and \" + str(len(urlData[0])) + \" columns.\")\n",
    "print(urlData[-1]) # Check it worked!"
   ]
  },
  {
   "cell_type": "code",
   "execution_count": 166,
   "metadata": {},
   "outputs": [
    {
     "name": "stdout",
     "output_type": "stream",
     "text": [
      "The host of 'name' is host_name\n",
      "The host of 'An Amazing 4Bedroom Home, Central London, Sleeps12' is Emily\n",
      "The host of 'Large Double Room - Maida Vale' is Mantas\n",
      "The host of 'Zone 1 : Spacious single bedroom in Bayswater' is Thanyawan\n",
      "The host of 'Large Smart Room 20 minutes walk to Big Ben' is Nadia\n",
      "The host of 'Large Notting Hill 2BR near Portobello Rd' is Emily & Kirsty\n",
      "The host of 'Quiet flat with private garden in Barons Court' is Emily\n",
      "The host of 'Superhost's Lux 3B Luxury Flat- 397 5-Star Reviews' is Emrah\n",
      "The host of 'Lovely and bright garden flat' is Tommaso\n",
      "The host of 'Covent Garden Private Room with Shared Living Room' is Che\n",
      "The host of 'Double Room with private bathroom' is Pascale\n",
      "The host of 'Warm 1BR garden flat in leafy Hampstead (Veeve)' is Veeve\n",
      "The host of 'Single  in NW2' is Nilgun\n",
      "The host of 'single bedroom near heathrow london free parking' is Mark\n",
      "The host of 'Luxury New Apartment with Spa and Pool' is Emile\n"
     ]
    }
   ],
   "source": [
    "for u in urlData[:15]:                             # For each row in the first 15 items in list\n",
    "    print(\"The host of '\" + u[1] + \"' is \" + u[3]) # Print out the name and host"
   ]
  },
  {
   "cell_type": "code",
   "execution_count": 172,
   "metadata": {},
   "outputs": [
    {
     "name": "stdout",
     "output_type": "stream",
     "text": [
      "urlData has 101 rows and 26 columns.\n",
      "The host of 'name' is host_name\n",
      "The host of 'An Amazing 4Bedroom Home, Central London, Sleeps12' is Emily\n",
      "The host of 'Large Double Room - Maida Vale' is Mantas\n",
      "The host of 'Zone 1 : Spacious single bedroom in Bayswater' is Thanyawan\n",
      "The host of 'Large Smart Room 20 minutes walk to Big Ben' is Nadia\n",
      "The host of 'Large Notting Hill 2BR near Portobello Rd' is Emily & Kirsty\n",
      "The host of 'Quiet flat with private garden in Barons Court' is Emily\n",
      "The host of 'Superhost's Lux 3B Luxury Flat- 397 5-Star Reviews' is Emrah\n",
      "The host of 'Lovely and bright garden flat' is Tommaso\n",
      "The host of 'Covent Garden Private Room with Shared Living Room' is Che\n",
      "The host of 'Double Room with private bathroom' is Pascale\n",
      "The host of 'Warm 1BR garden flat in leafy Hampstead (Veeve)' is Veeve\n",
      "The host of 'Single  in NW2' is Nilgun\n",
      "The host of 'single bedroom near heathrow london free parking' is Mark\n",
      "The host of 'Luxury New Apartment with Spa and Pool' is Emile\n"
     ]
    }
   ],
   "source": [
    "from urllib.request import urlopen\n",
    "import csv\n",
    "\n",
    "url = \"https://github.com/jreades/i2p/raw/master/data/2020-08-24-sample-listings.csv\"\n",
    "\n",
    "urlData = [] # Somewhere to store the data\n",
    "\n",
    "response = urlopen(url)\n",
    "csvfile = csv.reader(response.read().decode('utf-8').splitlines())\n",
    "\n",
    "for row in csvfile:              \n",
    "    urlData.append( row )\n",
    "\n",
    "print(\"urlData has \" + str(len(urlData)) + \" rows and \" + str(len(urlData[0])) + \" columns.\")\n",
    "\n",
    "for u in urlData[:15]:                               # For each row in the list\n",
    "    print(\"The host of '\" + u[1] + \"' is \" + u[4]) # Print out the name and host"
   ]
  },
  {
   "cell_type": "code",
   "execution_count": 173,
   "metadata": {},
   "outputs": [
    {
     "name": "stdout",
     "output_type": "stream",
     "text": [
      "['London', 'Manchester', 'Birmingham', 'Edinburgh', 'Inverness', 'Lerwick']\n"
     ]
    }
   ],
   "source": [
    "myData = {\n",
    "    'id'         : [0, 1, 2, 3, 4, 5],\n",
    "    'Name'       : ['London', 'Manchester', 'Birmingham','Edinburgh','Inverness','Lerwick'],\n",
    "    'Rank'       : [1, 2, 3, 4, 5, 6],\n",
    "    'Longitude'  : [-0.128, -2.245, -1.903, -3.189, -4.223, -1.145],\n",
    "    'Latitude'   : [51.507, 53.479, 52.480, 55.953, 57.478, 60.155],\n",
    "    'Population' : [9787426, 2705000, 1141816, 901455, 70000, 6958],\n",
    "}\n",
    "\n",
    "print(myData['Name'])\n"
   ]
  },
  {
   "cell_type": "code",
   "execution_count": 174,
   "metadata": {},
   "outputs": [
    {
     "name": "stdout",
     "output_type": "stream",
     "text": [
      "Manchester's latitude is 53.479\n",
      "The easternmost city is: London\n",
      "The town of Lerwick can be found at 1.145ºW, 60.155ºN\n",
      "The mean population is: 2435442.5\n"
     ]
    }
   ],
   "source": [
    "# Find the latitude of Manchester.\n",
    "lat = myData['Latitude'][ myData['Name'].index('Manchester') ]\n",
    "print(f\"Manchester's latitude is {lat}\") # Notice how 'f-strings' work!\n",
    "\n",
    "# Find the easternmost city\n",
    "city = myData['Name'][ myData['Longitude'].index( max(myData['Longitude']) ) ]\n",
    "print(f\"The easternmost city is: {city}\")\n",
    "\n",
    "# Print the location of Lerwick\n",
    "city = \"Lerwick\"\n",
    "print(f\"The town of {city} can be found at \" + \n",
    "      f\"{abs(myData['Longitude'][myData['Name'].index(city)])}ºW, {myData['Latitude'][myData['Name'].index(city)]}ºN\")\n",
    "\n",
    "# Find the mean population of the cities\n",
    "# using a handy package called numpy\n",
    "import numpy as np\n",
    "mean = np.mean(myData['Population'])\n",
    "print(f\"The mean population is: {mean}\")"
   ]
  },
  {
   "cell_type": "code",
   "execution_count": 175,
   "metadata": {},
   "outputs": [
    {
     "name": "stdout",
     "output_type": "stream",
     "text": [
      "1\n"
     ]
    }
   ],
   "source": [
    "print(myData['Name'].index('Manchester'))\n"
   ]
  },
  {
   "cell_type": "code",
   "execution_count": 176,
   "metadata": {},
   "outputs": [
    {
     "data": {
      "text/plain": [
       "2705000"
      ]
     },
     "execution_count": 176,
     "metadata": {},
     "output_type": "execute_result"
    }
   ],
   "source": [
    "myData['Population'][myData['Name'].index('Manchester')]"
   ]
  },
  {
   "cell_type": "code",
   "execution_count": 178,
   "metadata": {},
   "outputs": [
    {
     "data": {
      "text/plain": [
       "0"
      ]
     },
     "execution_count": 178,
     "metadata": {},
     "output_type": "execute_result"
    }
   ],
   "source": [
    "max_lon = max(myData['Longitude'])\n",
    "\n",
    "myData['Longitude'].index(max_lon)"
   ]
  },
  {
   "cell_type": "code",
   "execution_count": 179,
   "metadata": {},
   "outputs": [
    {
     "data": {
      "text/plain": [
       "0"
      ]
     },
     "execution_count": 179,
     "metadata": {},
     "output_type": "execute_result"
    }
   ],
   "source": [
    "myData['Longitude'].index(\n",
    "    max(myData['Longitude'])\n",
    ")"
   ]
  },
  {
   "cell_type": "code",
   "execution_count": 180,
   "metadata": {},
   "outputs": [
    {
     "data": {
      "text/plain": [
       "'London'"
      ]
     },
     "execution_count": 180,
     "metadata": {},
     "output_type": "execute_result"
    }
   ],
   "source": [
    "myData['Name'][myData['Longitude'].index(\n",
    "    max(myData['Longitude'])\n",
    ")]"
   ]
  },
  {
   "cell_type": "code",
   "execution_count": 181,
   "metadata": {},
   "outputs": [
    {
     "name": "stdout",
     "output_type": "stream",
     "text": [
      "The town of Lerwick can be found at 1.145ºW, 60.155ºN\n"
     ]
    }
   ],
   "source": [
    "# Print the location of Lerwick\n",
    "city = \"Lerwick\"\n",
    "print(f\"The town of {city} can be found at \" + \n",
    "      f\"{abs(myData['Longitude'][myData['Name'].index(city)])}ºW, {myData['Latitude'][myData['Name'].index(city)]}ºN\")"
   ]
  },
  {
   "cell_type": "code",
   "execution_count": 182,
   "metadata": {},
   "outputs": [],
   "source": [
    "import numpy as np\n",
    "mean = np.mean(myData['Population'])"
   ]
  },
  {
   "cell_type": "code",
   "execution_count": 183,
   "metadata": {},
   "outputs": [
    {
     "name": "stdout",
     "output_type": "stream",
     "text": [
      "2435442.5\n"
     ]
    }
   ],
   "source": [
    "print(mean\n",
    "     )"
   ]
  },
  {
   "cell_type": "code",
   "execution_count": 191,
   "metadata": {},
   "outputs": [
    {
     "name": "stdout",
     "output_type": "stream",
     "text": [
      "Edinburgh\n"
     ]
    }
   ],
   "source": [
    "myData = {\n",
    "    'id'         : [0, 1, 2, 3, 4, 5],\n",
    "    'Name'       : ['London', 'Manchester', 'Birmingham','Edinburgh','Inverness','Lerwick'],\n",
    "    'Rank'       : [1, 2, 3, 4, 5, 6],\n",
    "    'Longitude'  : [-0.128, -2.245, -1.903, -3.189, -4.223, -1.145],\n",
    "    'Latitude'   : [51.507, 53.479, 52.480, 55.953, 57.478, 60.155],\n",
    "    'Population' : [9787426, 2705000, 1141816, 901455, 70000, 6958],\n",
    "}\n",
    "\n",
    "print(myData['Name'][\n",
    "      myData['Population'].index(sorted(myData['Population'])[-4])])"
   ]
  },
  {
   "cell_type": "code",
   "execution_count": 192,
   "metadata": {},
   "outputs": [
    {
     "name": "stdout",
     "output_type": "stream",
     "text": [
      "Edinburgh\n",
      "The fourth most populous city is: Edinburgh\n"
     ]
    }
   ],
   "source": [
    "# Print out the name of the 4th most populous city-region\n",
    "\n",
    "print(myData['Name'][\n",
    "      myData['Population'].index(sorted(myData['Population'])[-4])])\n",
    "\n",
    "print(\"The fourth most populous city is: \" + \n",
    "      str(myData['Name'][\n",
    "      myData['Population'].index(sorted(myData['Population'])[-4])]))"
   ]
  },
  {
   "cell_type": "code",
   "execution_count": null,
   "metadata": {},
   "outputs": [],
   "source": []
  }
 ],
 "metadata": {
  "kernelspec": {
   "display_name": "Python 3",
   "language": "python",
   "name": "python3"
  },
  "language_info": {
   "codemirror_mode": {
    "name": "ipython",
    "version": 3
   },
   "file_extension": ".py",
   "mimetype": "text/x-python",
   "name": "python",
   "nbconvert_exporter": "python",
   "pygments_lexer": "ipython3",
   "version": "3.7.8"
  }
 },
 "nbformat": 4,
 "nbformat_minor": 4
}
